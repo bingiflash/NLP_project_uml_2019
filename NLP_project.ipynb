{
  "nbformat": 4,
  "nbformat_minor": 0,
  "metadata": {
    "colab": {
      "name": "NLP_project.ipynb",
      "version": "0.3.2",
      "provenance": [],
      "collapsed_sections": [],
      "include_colab_link": true
    },
    "kernelspec": {
      "name": "python3",
      "display_name": "Python 3"
    },
    "accelerator": "GPU"
  },
  "cells": [
    {
      "cell_type": "markdown",
      "metadata": {
        "id": "view-in-github",
        "colab_type": "text"
      },
      "source": [
        "<a href=\"https://colab.research.google.com/github/bingiflash/NLP_project_uml_2019/blob/master/NLP_project.ipynb\" target=\"_parent\"><img src=\"https://colab.research.google.com/assets/colab-badge.svg\" alt=\"Open In Colab\"/></a>"
      ]
    },
    {
      "metadata": {
        "id": "ivL66Pi5Woe5",
        "colab_type": "code",
        "colab": {}
      },
      "cell_type": "code",
      "source": [
        "import json\n",
        "from collections import Counter,defaultdict\n",
        "import numpy as np\n",
        "import matplotlib.pyplot as plt\n",
        "from nltk import word_tokenize\n",
        "from sklearn.model_selection import train_test_split\n",
        "from sklearn.svm import SVR\n",
        "from sklearn.metrics import accuracy_score,mean_absolute_error,mean_squared_error\n",
        "from sklearn.linear_model import LinearRegression\n",
        "import pandas as pd"
      ],
      "execution_count": 0,
      "outputs": []
    },
    {
      "metadata": {
        "id": "8gTq5V4YadCJ",
        "colab_type": "code",
        "outputId": "6d7f1488-1e51-4485-ecf7-25a48da5d973",
        "colab": {
          "base_uri": "https://localhost:8080/",
          "height": 67
        }
      },
      "cell_type": "code",
      "source": [
        "import nltk\n",
        "nltk.download('punkt')"
      ],
      "execution_count": 5,
      "outputs": [
        {
          "output_type": "stream",
          "text": [
            "[nltk_data] Downloading package punkt to /root/nltk_data...\n",
            "[nltk_data]   Package punkt is already up-to-date!\n"
          ],
          "name": "stdout"
        },
        {
          "output_type": "execute_result",
          "data": {
            "text/plain": [
              "True"
            ]
          },
          "metadata": {
            "tags": []
          },
          "execution_count": 5
        }
      ]
    },
    {
      "metadata": {
        "id": "1HzCTcmvt6Oe",
        "colab_type": "code",
        "colab": {
          "base_uri": "https://localhost:8080/",
          "height": 1882
        },
        "outputId": "b98d10ae-9381-46ce-9875-c8860e43642b"
      },
      "cell_type": "code",
      "source": [
        "p = pd.read_json('https://raw.githubusercontent.com/bingiflash/NLP_project_uml_2019/master/Headline_Trainingdata.json')\n",
        "p"
      ],
      "execution_count": 8,
      "outputs": [
        {
          "output_type": "execute_result",
          "data": {
            "text/html": [
              "<div>\n",
              "<style scoped>\n",
              "    .dataframe tbody tr th:only-of-type {\n",
              "        vertical-align: middle;\n",
              "    }\n",
              "\n",
              "    .dataframe tbody tr th {\n",
              "        vertical-align: top;\n",
              "    }\n",
              "\n",
              "    .dataframe thead th {\n",
              "        text-align: right;\n",
              "    }\n",
              "</style>\n",
              "<table border=\"1\" class=\"dataframe\">\n",
              "  <thead>\n",
              "    <tr style=\"text-align: right;\">\n",
              "      <th></th>\n",
              "      <th>company</th>\n",
              "      <th>id</th>\n",
              "      <th>sentiment</th>\n",
              "      <th>title</th>\n",
              "    </tr>\n",
              "  </thead>\n",
              "  <tbody>\n",
              "    <tr>\n",
              "      <th>0</th>\n",
              "      <td>Morrisons</td>\n",
              "      <td>2</td>\n",
              "      <td>0.430</td>\n",
              "      <td>Morrisons book second consecutive quarter of s...</td>\n",
              "    </tr>\n",
              "    <tr>\n",
              "      <th>1</th>\n",
              "      <td>IMI</td>\n",
              "      <td>3</td>\n",
              "      <td>-0.344</td>\n",
              "      <td>IMI posts drop in first-quarter organic revenu...</td>\n",
              "    </tr>\n",
              "    <tr>\n",
              "      <th>2</th>\n",
              "      <td>Glencore</td>\n",
              "      <td>4</td>\n",
              "      <td>0.340</td>\n",
              "      <td>Glencore to refinance its short-term debt earl...</td>\n",
              "    </tr>\n",
              "    <tr>\n",
              "      <th>3</th>\n",
              "      <td>Ryanair</td>\n",
              "      <td>5</td>\n",
              "      <td>0.259</td>\n",
              "      <td>EasyJet attracts more passengers in June but s...</td>\n",
              "    </tr>\n",
              "    <tr>\n",
              "      <th>4</th>\n",
              "      <td>Barclays</td>\n",
              "      <td>6</td>\n",
              "      <td>-0.231</td>\n",
              "      <td>Barclays 'bad bank' chief to step down</td>\n",
              "    </tr>\n",
              "    <tr>\n",
              "      <th>5</th>\n",
              "      <td>BP</td>\n",
              "      <td>7</td>\n",
              "      <td>0.113</td>\n",
              "      <td>Bilfinger Industrial Services win Â£100m BP co...</td>\n",
              "    </tr>\n",
              "    <tr>\n",
              "      <th>6</th>\n",
              "      <td>Bilfinger Industrial Services</td>\n",
              "      <td>8</td>\n",
              "      <td>0.424</td>\n",
              "      <td>Bilfinger Industrial Services win Â£100m BP co...</td>\n",
              "    </tr>\n",
              "    <tr>\n",
              "      <th>7</th>\n",
              "      <td>Barclays</td>\n",
              "      <td>9</td>\n",
              "      <td>-0.373</td>\n",
              "      <td>Barclays share price subdued as bank faces fre...</td>\n",
              "    </tr>\n",
              "    <tr>\n",
              "      <th>8</th>\n",
              "      <td>Centrica PLC</td>\n",
              "      <td>10</td>\n",
              "      <td>0.111</td>\n",
              "      <td>Centrica prepared for takeover approach - chai...</td>\n",
              "    </tr>\n",
              "    <tr>\n",
              "      <th>9</th>\n",
              "      <td>Glencore</td>\n",
              "      <td>11</td>\n",
              "      <td>-0.231</td>\n",
              "      <td>Jim Armitage: Spare no tears as Glencore's bos...</td>\n",
              "    </tr>\n",
              "    <tr>\n",
              "      <th>10</th>\n",
              "      <td>Barclays</td>\n",
              "      <td>12</td>\n",
              "      <td>-0.221</td>\n",
              "      <td>Barclays, Deutsche Bank Fight to Lift Profit J...</td>\n",
              "    </tr>\n",
              "    <tr>\n",
              "      <th>11</th>\n",
              "      <td>Kingfisher</td>\n",
              "      <td>13</td>\n",
              "      <td>0.541</td>\n",
              "      <td>Kingfisher set to open another 200 Screwfix st...</td>\n",
              "    </tr>\n",
              "    <tr>\n",
              "      <th>12</th>\n",
              "      <td>Diageo</td>\n",
              "      <td>14</td>\n",
              "      <td>-0.545</td>\n",
              "      <td>Diageo sales disappoint as currency and compar...</td>\n",
              "    </tr>\n",
              "    <tr>\n",
              "      <th>13</th>\n",
              "      <td>Smith &amp; Nephew</td>\n",
              "      <td>15</td>\n",
              "      <td>-0.522</td>\n",
              "      <td>Smith &amp; Nephew recalls hip-replacement components</td>\n",
              "    </tr>\n",
              "    <tr>\n",
              "      <th>14</th>\n",
              "      <td>Tesco PLC</td>\n",
              "      <td>16</td>\n",
              "      <td>-0.775</td>\n",
              "      <td>Tesco is torn apart as watchdog finds supermar...</td>\n",
              "    </tr>\n",
              "    <tr>\n",
              "      <th>15</th>\n",
              "      <td>Legal &amp; General Group Plc</td>\n",
              "      <td>17</td>\n",
              "      <td>-0.271</td>\n",
              "      <td>Is Trouble Brewing At Legal &amp; General Group Pl...</td>\n",
              "    </tr>\n",
              "    <tr>\n",
              "      <th>16</th>\n",
              "      <td>Tesco PLC</td>\n",
              "      <td>18</td>\n",
              "      <td>0.090</td>\n",
              "      <td>Here's my 10-point plan to make Tesco great again</td>\n",
              "    </tr>\n",
              "    <tr>\n",
              "      <th>17</th>\n",
              "      <td>Schroders</td>\n",
              "      <td>19</td>\n",
              "      <td>0.052</td>\n",
              "      <td>Schroders posts FY profit beat, replaces CEO a...</td>\n",
              "    </tr>\n",
              "    <tr>\n",
              "      <th>18</th>\n",
              "      <td>BP</td>\n",
              "      <td>20</td>\n",
              "      <td>0.181</td>\n",
              "      <td>BP Seeks to Get Back Some Gulf Oil Spill Busin...</td>\n",
              "    </tr>\n",
              "    <tr>\n",
              "      <th>19</th>\n",
              "      <td>Standard Chartered PLC</td>\n",
              "      <td>21</td>\n",
              "      <td>0.000</td>\n",
              "      <td>Can Standard Chartered PLC, BP plc &amp; Burberry ...</td>\n",
              "    </tr>\n",
              "    <tr>\n",
              "      <th>20</th>\n",
              "      <td>BP</td>\n",
              "      <td>22</td>\n",
              "      <td>-0.989</td>\n",
              "      <td>UPDATE 1-BP reports worst annual loss in at le...</td>\n",
              "    </tr>\n",
              "    <tr>\n",
              "      <th>21</th>\n",
              "      <td>Friends Life</td>\n",
              "      <td>23</td>\n",
              "      <td>0.053</td>\n",
              "      <td>Insurers: Admiral blows hot and cold but Aviva...</td>\n",
              "    </tr>\n",
              "    <tr>\n",
              "      <th>22</th>\n",
              "      <td>L&amp;G</td>\n",
              "      <td>24</td>\n",
              "      <td>-0.338</td>\n",
              "      <td>L&amp;G still paying price for dividend cut during...</td>\n",
              "    </tr>\n",
              "    <tr>\n",
              "      <th>23</th>\n",
              "      <td>Admiral</td>\n",
              "      <td>25</td>\n",
              "      <td>0.314</td>\n",
              "      <td>Insurers: Admiral blows hot and cold but Aviva...</td>\n",
              "    </tr>\n",
              "    <tr>\n",
              "      <th>24</th>\n",
              "      <td>Whitbread</td>\n",
              "      <td>26</td>\n",
              "      <td>0.139</td>\n",
              "      <td>Whitbread eyes savings, price rises to offset ...</td>\n",
              "    </tr>\n",
              "    <tr>\n",
              "      <th>25</th>\n",
              "      <td>Kingfisher</td>\n",
              "      <td>27</td>\n",
              "      <td>0.653</td>\n",
              "      <td>Britain's FTSE lifted by solid Kingfisher</td>\n",
              "    </tr>\n",
              "    <tr>\n",
              "      <th>26</th>\n",
              "      <td>Novo Nordisk</td>\n",
              "      <td>28</td>\n",
              "      <td>0.099</td>\n",
              "      <td>Novo Nordisk and AstraZeneca seek tonic from k...</td>\n",
              "    </tr>\n",
              "    <tr>\n",
              "      <th>27</th>\n",
              "      <td>Mr Bricolage</td>\n",
              "      <td>29</td>\n",
              "      <td>-0.311</td>\n",
              "      <td>Kingfisher takeover of Mr Bricolage could hit ...</td>\n",
              "    </tr>\n",
              "    <tr>\n",
              "      <th>28</th>\n",
              "      <td>BP</td>\n",
              "      <td>30</td>\n",
              "      <td>0.236</td>\n",
              "      <td>BP wins right to appeal some Gulf spill damage...</td>\n",
              "    </tr>\n",
              "    <tr>\n",
              "      <th>29</th>\n",
              "      <td>Dixons Carphone</td>\n",
              "      <td>31</td>\n",
              "      <td>0.478</td>\n",
              "      <td>Dixons Carphone profit boost on strong sales</td>\n",
              "    </tr>\n",
              "    <tr>\n",
              "      <th>...</th>\n",
              "      <td>...</td>\n",
              "      <td>...</td>\n",
              "      <td>...</td>\n",
              "      <td>...</td>\n",
              "    </tr>\n",
              "    <tr>\n",
              "      <th>1112</th>\n",
              "      <td>Lazada</td>\n",
              "      <td>1114</td>\n",
              "      <td>-0.038</td>\n",
              "      <td>Tesco sells half of stake in ecommerce site La...</td>\n",
              "    </tr>\n",
              "    <tr>\n",
              "      <th>1113</th>\n",
              "      <td>Barclays</td>\n",
              "      <td>1115</td>\n",
              "      <td>-0.229</td>\n",
              "      <td>UPDATE 5-Barclays Chairman McFarlane axes CEO ...</td>\n",
              "    </tr>\n",
              "    <tr>\n",
              "      <th>1114</th>\n",
              "      <td>Berkshire Hathaway Inc.</td>\n",
              "      <td>1116</td>\n",
              "      <td>0.057</td>\n",
              "      <td>Berkshire Bought Apple Stake at $99.49 a Share...</td>\n",
              "    </tr>\n",
              "    <tr>\n",
              "      <th>1115</th>\n",
              "      <td>Sainsbury's</td>\n",
              "      <td>1117</td>\n",
              "      <td>0.000</td>\n",
              "      <td>Sainsbury CFO Rogers to Replace Home Retail CE...</td>\n",
              "    </tr>\n",
              "    <tr>\n",
              "      <th>1116</th>\n",
              "      <td>Lloyds Banking Group PLC</td>\n",
              "      <td>1118</td>\n",
              "      <td>-0.266</td>\n",
              "      <td>UPDATE 1-Lloyds to cut 945 jobs as part of 3-y...</td>\n",
              "    </tr>\n",
              "    <tr>\n",
              "      <th>1117</th>\n",
              "      <td>Glencore</td>\n",
              "      <td>1119</td>\n",
              "      <td>0.541</td>\n",
              "      <td>Copper Prices up on Glencore Cuts to Zinc Supply</td>\n",
              "    </tr>\n",
              "    <tr>\n",
              "      <th>1118</th>\n",
              "      <td>WPP</td>\n",
              "      <td>1120</td>\n",
              "      <td>0.109</td>\n",
              "      <td>WPP's Sir Martin Sorrell is highest-paid FTSE ...</td>\n",
              "    </tr>\n",
              "    <tr>\n",
              "      <th>1119</th>\n",
              "      <td>Meggitt</td>\n",
              "      <td>1121</td>\n",
              "      <td>-0.775</td>\n",
              "      <td>Meggitt plc Crashes 20% On Profit Warning: Is ...</td>\n",
              "    </tr>\n",
              "    <tr>\n",
              "      <th>1120</th>\n",
              "      <td>Lloyds Banking Group PLC</td>\n",
              "      <td>1122</td>\n",
              "      <td>-0.596</td>\n",
              "      <td>UK government cuts stake in Lloyds to below 11...</td>\n",
              "    </tr>\n",
              "    <tr>\n",
              "      <th>1121</th>\n",
              "      <td>EasyJet</td>\n",
              "      <td>1123</td>\n",
              "      <td>0.329</td>\n",
              "      <td>Passengers rise at EasyJet and Aer Lingus</td>\n",
              "    </tr>\n",
              "    <tr>\n",
              "      <th>1122</th>\n",
              "      <td>British Airways</td>\n",
              "      <td>1124</td>\n",
              "      <td>-0.600</td>\n",
              "      <td>Sharm el-Sheikh travel disruption: British Air...</td>\n",
              "    </tr>\n",
              "    <tr>\n",
              "      <th>1123</th>\n",
              "      <td>Berkshire Hathaway Inc.</td>\n",
              "      <td>1125</td>\n",
              "      <td>0.412</td>\n",
              "      <td>US STOCKS-Wall St rises on Berkshire deal, Chi...</td>\n",
              "    </tr>\n",
              "    <tr>\n",
              "      <th>1124</th>\n",
              "      <td>Prudential Financial</td>\n",
              "      <td>1126</td>\n",
              "      <td>0.950</td>\n",
              "      <td>Prudential Financial quarterly profit rises 64...</td>\n",
              "    </tr>\n",
              "    <tr>\n",
              "      <th>1125</th>\n",
              "      <td>Huawei</td>\n",
              "      <td>1127</td>\n",
              "      <td>-0.388</td>\n",
              "      <td>US Seeks Huawei Records on Dealings With Sanct...</td>\n",
              "    </tr>\n",
              "    <tr>\n",
              "      <th>1126</th>\n",
              "      <td>Centrica PLC</td>\n",
              "      <td>1128</td>\n",
              "      <td>-0.172</td>\n",
              "      <td>Centrica urges policy overhaul as it warns of ...</td>\n",
              "    </tr>\n",
              "    <tr>\n",
              "      <th>1127</th>\n",
              "      <td>AstraZeneca</td>\n",
              "      <td>1129</td>\n",
              "      <td>-0.284</td>\n",
              "      <td>UPDATE 1-AstraZeneca potassium drug delayed by...</td>\n",
              "    </tr>\n",
              "    <tr>\n",
              "      <th>1128</th>\n",
              "      <td>London Stock Exchange Group</td>\n",
              "      <td>1130</td>\n",
              "      <td>0.349</td>\n",
              "      <td>Activist Fund TCI Backs German Takeover of Lon...</td>\n",
              "    </tr>\n",
              "    <tr>\n",
              "      <th>1129</th>\n",
              "      <td>Royal Dutch Shell</td>\n",
              "      <td>1131</td>\n",
              "      <td>-0.402</td>\n",
              "      <td>Oil majors like Royal Dutch Shell, Chevron, BP...</td>\n",
              "    </tr>\n",
              "    <tr>\n",
              "      <th>1130</th>\n",
              "      <td>Barclays</td>\n",
              "      <td>1132</td>\n",
              "      <td>-0.539</td>\n",
              "      <td>Four ex-Barclays bankers sentenced for roles i...</td>\n",
              "    </tr>\n",
              "    <tr>\n",
              "      <th>1131</th>\n",
              "      <td>AB InBev</td>\n",
              "      <td>1133</td>\n",
              "      <td>0.193</td>\n",
              "      <td>AB InBev to sell more SAB assets as seeks EU d...</td>\n",
              "    </tr>\n",
              "    <tr>\n",
              "      <th>1132</th>\n",
              "      <td>Berkshire Hathaway Inc.</td>\n",
              "      <td>1134</td>\n",
              "      <td>0.225</td>\n",
              "      <td>Berkshire applies to boost Wells Fargo stake a...</td>\n",
              "    </tr>\n",
              "    <tr>\n",
              "      <th>1133</th>\n",
              "      <td>Marks &amp; Spencer</td>\n",
              "      <td>1135</td>\n",
              "      <td>-0.347</td>\n",
              "      <td>Tesco leads leap in FTSE 100; Marks &amp; Spencer ...</td>\n",
              "    </tr>\n",
              "    <tr>\n",
              "      <th>1134</th>\n",
              "      <td>Balfour Beatty plc</td>\n",
              "      <td>1136</td>\n",
              "      <td>0.413</td>\n",
              "      <td>Balfour Beatty plc Set To Reinstate Dividend (...</td>\n",
              "    </tr>\n",
              "    <tr>\n",
              "      <th>1135</th>\n",
              "      <td>CIB</td>\n",
              "      <td>1137</td>\n",
              "      <td>0.148</td>\n",
              "      <td>UPDATE: CIB, Legal &amp; General Sell Egyptian Lif...</td>\n",
              "    </tr>\n",
              "    <tr>\n",
              "      <th>1136</th>\n",
              "      <td>BG Group</td>\n",
              "      <td>1138</td>\n",
              "      <td>0.069</td>\n",
              "      <td>BG Group appoints new CEO one month early</td>\n",
              "    </tr>\n",
              "    <tr>\n",
              "      <th>1137</th>\n",
              "      <td>Glaxo</td>\n",
              "      <td>1139</td>\n",
              "      <td>0.305</td>\n",
              "      <td>FDA panel backs Glaxo asthma drug for adults, ...</td>\n",
              "    </tr>\n",
              "    <tr>\n",
              "      <th>1138</th>\n",
              "      <td>Barclays</td>\n",
              "      <td>1140</td>\n",
              "      <td>0.000</td>\n",
              "      <td>Barclays set to name former JPMorgan banker St...</td>\n",
              "    </tr>\n",
              "    <tr>\n",
              "      <th>1139</th>\n",
              "      <td>Kingfisher</td>\n",
              "      <td>1141</td>\n",
              "      <td>-0.786</td>\n",
              "      <td>Kingfisher share price slides on cost to imple...</td>\n",
              "    </tr>\n",
              "    <tr>\n",
              "      <th>1140</th>\n",
              "      <td>Travis Perkins</td>\n",
              "      <td>1142</td>\n",
              "      <td>0.494</td>\n",
              "      <td>CompaniesTravis Perkins lifts dividend, earnin...</td>\n",
              "    </tr>\n",
              "    <tr>\n",
              "      <th>1141</th>\n",
              "      <td>Standard Chartered PLC</td>\n",
              "      <td>1143</td>\n",
              "      <td>-0.461</td>\n",
              "      <td>Standard Chartered Shifts Emerging-Markets Str...</td>\n",
              "    </tr>\n",
              "  </tbody>\n",
              "</table>\n",
              "<p>1142 rows × 4 columns</p>\n",
              "</div>"
            ],
            "text/plain": [
              "                            company    id  sentiment  \\\n",
              "0                         Morrisons     2      0.430   \n",
              "1                               IMI     3     -0.344   \n",
              "2                          Glencore     4      0.340   \n",
              "3                           Ryanair     5      0.259   \n",
              "4                          Barclays     6     -0.231   \n",
              "5                                BP     7      0.113   \n",
              "6     Bilfinger Industrial Services     8      0.424   \n",
              "7                          Barclays     9     -0.373   \n",
              "8                      Centrica PLC    10      0.111   \n",
              "9                          Glencore    11     -0.231   \n",
              "10                         Barclays    12     -0.221   \n",
              "11                       Kingfisher    13      0.541   \n",
              "12                           Diageo    14     -0.545   \n",
              "13                   Smith & Nephew    15     -0.522   \n",
              "14                        Tesco PLC    16     -0.775   \n",
              "15        Legal & General Group Plc    17     -0.271   \n",
              "16                        Tesco PLC    18      0.090   \n",
              "17                        Schroders    19      0.052   \n",
              "18                               BP    20      0.181   \n",
              "19           Standard Chartered PLC    21      0.000   \n",
              "20                               BP    22     -0.989   \n",
              "21                     Friends Life    23      0.053   \n",
              "22                              L&G    24     -0.338   \n",
              "23                          Admiral    25      0.314   \n",
              "24                        Whitbread    26      0.139   \n",
              "25                       Kingfisher    27      0.653   \n",
              "26                     Novo Nordisk    28      0.099   \n",
              "27                     Mr Bricolage    29     -0.311   \n",
              "28                               BP    30      0.236   \n",
              "29                  Dixons Carphone    31      0.478   \n",
              "...                             ...   ...        ...   \n",
              "1112                         Lazada  1114     -0.038   \n",
              "1113                       Barclays  1115     -0.229   \n",
              "1114        Berkshire Hathaway Inc.  1116      0.057   \n",
              "1115                    Sainsbury's  1117      0.000   \n",
              "1116       Lloyds Banking Group PLC  1118     -0.266   \n",
              "1117                       Glencore  1119      0.541   \n",
              "1118                            WPP  1120      0.109   \n",
              "1119                        Meggitt  1121     -0.775   \n",
              "1120       Lloyds Banking Group PLC  1122     -0.596   \n",
              "1121                        EasyJet  1123      0.329   \n",
              "1122                British Airways  1124     -0.600   \n",
              "1123        Berkshire Hathaway Inc.  1125      0.412   \n",
              "1124           Prudential Financial  1126      0.950   \n",
              "1125                         Huawei  1127     -0.388   \n",
              "1126                   Centrica PLC  1128     -0.172   \n",
              "1127                    AstraZeneca  1129     -0.284   \n",
              "1128    London Stock Exchange Group  1130      0.349   \n",
              "1129              Royal Dutch Shell  1131     -0.402   \n",
              "1130                       Barclays  1132     -0.539   \n",
              "1131                       AB InBev  1133      0.193   \n",
              "1132        Berkshire Hathaway Inc.  1134      0.225   \n",
              "1133                Marks & Spencer  1135     -0.347   \n",
              "1134             Balfour Beatty plc  1136      0.413   \n",
              "1135                            CIB  1137      0.148   \n",
              "1136                       BG Group  1138      0.069   \n",
              "1137                          Glaxo  1139      0.305   \n",
              "1138                       Barclays  1140      0.000   \n",
              "1139                     Kingfisher  1141     -0.786   \n",
              "1140                 Travis Perkins  1142      0.494   \n",
              "1141         Standard Chartered PLC  1143     -0.461   \n",
              "\n",
              "                                                  title  \n",
              "0     Morrisons book second consecutive quarter of s...  \n",
              "1     IMI posts drop in first-quarter organic revenu...  \n",
              "2     Glencore to refinance its short-term debt earl...  \n",
              "3     EasyJet attracts more passengers in June but s...  \n",
              "4                Barclays 'bad bank' chief to step down  \n",
              "5     Bilfinger Industrial Services win Â£100m BP co...  \n",
              "6     Bilfinger Industrial Services win Â£100m BP co...  \n",
              "7     Barclays share price subdued as bank faces fre...  \n",
              "8     Centrica prepared for takeover approach - chai...  \n",
              "9     Jim Armitage: Spare no tears as Glencore's bos...  \n",
              "10    Barclays, Deutsche Bank Fight to Lift Profit J...  \n",
              "11    Kingfisher set to open another 200 Screwfix st...  \n",
              "12    Diageo sales disappoint as currency and compar...  \n",
              "13    Smith & Nephew recalls hip-replacement components  \n",
              "14    Tesco is torn apart as watchdog finds supermar...  \n",
              "15    Is Trouble Brewing At Legal & General Group Pl...  \n",
              "16    Here's my 10-point plan to make Tesco great again  \n",
              "17    Schroders posts FY profit beat, replaces CEO a...  \n",
              "18    BP Seeks to Get Back Some Gulf Oil Spill Busin...  \n",
              "19    Can Standard Chartered PLC, BP plc & Burberry ...  \n",
              "20    UPDATE 1-BP reports worst annual loss in at le...  \n",
              "21    Insurers: Admiral blows hot and cold but Aviva...  \n",
              "22    L&G still paying price for dividend cut during...  \n",
              "23    Insurers: Admiral blows hot and cold but Aviva...  \n",
              "24    Whitbread eyes savings, price rises to offset ...  \n",
              "25            Britain's FTSE lifted by solid Kingfisher  \n",
              "26    Novo Nordisk and AstraZeneca seek tonic from k...  \n",
              "27    Kingfisher takeover of Mr Bricolage could hit ...  \n",
              "28    BP wins right to appeal some Gulf spill damage...  \n",
              "29         Dixons Carphone profit boost on strong sales  \n",
              "...                                                 ...  \n",
              "1112  Tesco sells half of stake in ecommerce site La...  \n",
              "1113  UPDATE 5-Barclays Chairman McFarlane axes CEO ...  \n",
              "1114  Berkshire Bought Apple Stake at $99.49 a Share...  \n",
              "1115  Sainsbury CFO Rogers to Replace Home Retail CE...  \n",
              "1116  UPDATE 1-Lloyds to cut 945 jobs as part of 3-y...  \n",
              "1117   Copper Prices up on Glencore Cuts to Zinc Supply  \n",
              "1118  WPP's Sir Martin Sorrell is highest-paid FTSE ...  \n",
              "1119  Meggitt plc Crashes 20% On Profit Warning: Is ...  \n",
              "1120  UK government cuts stake in Lloyds to below 11...  \n",
              "1121          Passengers rise at EasyJet and Aer Lingus  \n",
              "1122  Sharm el-Sheikh travel disruption: British Air...  \n",
              "1123  US STOCKS-Wall St rises on Berkshire deal, Chi...  \n",
              "1124  Prudential Financial quarterly profit rises 64...  \n",
              "1125  US Seeks Huawei Records on Dealings With Sanct...  \n",
              "1126  Centrica urges policy overhaul as it warns of ...  \n",
              "1127  UPDATE 1-AstraZeneca potassium drug delayed by...  \n",
              "1128  Activist Fund TCI Backs German Takeover of Lon...  \n",
              "1129  Oil majors like Royal Dutch Shell, Chevron, BP...  \n",
              "1130  Four ex-Barclays bankers sentenced for roles i...  \n",
              "1131  AB InBev to sell more SAB assets as seeks EU d...  \n",
              "1132  Berkshire applies to boost Wells Fargo stake a...  \n",
              "1133  Tesco leads leap in FTSE 100; Marks & Spencer ...  \n",
              "1134  Balfour Beatty plc Set To Reinstate Dividend (...  \n",
              "1135  UPDATE: CIB, Legal & General Sell Egyptian Lif...  \n",
              "1136          BG Group appoints new CEO one month early  \n",
              "1137  FDA panel backs Glaxo asthma drug for adults, ...  \n",
              "1138  Barclays set to name former JPMorgan banker St...  \n",
              "1139  Kingfisher share price slides on cost to imple...  \n",
              "1140  CompaniesTravis Perkins lifts dividend, earnin...  \n",
              "1141  Standard Chartered Shifts Emerging-Markets Str...  \n",
              "\n",
              "[1142 rows x 4 columns]"
            ]
          },
          "metadata": {
            "tags": []
          },
          "execution_count": 8
        }
      ]
    },
    {
      "metadata": {
        "id": "lKUJlhodYP2L",
        "colab_type": "code",
        "outputId": "03cf8aa1-b053-4435-bfe9-10cc17637cec",
        "colab": {
          "base_uri": "https://localhost:8080/",
          "height": 178
        }
      },
      "cell_type": "code",
      "source": [
        "# Read json dataset\n",
        "with open('https://raw.githubusercontent.com/bingiflash/NLP_project_uml_2019/master/Headline_Trainingdata.json',encoding='utf-8') as f:\n",
        "    data = json.loads(f.read())"
      ],
      "execution_count": 3,
      "outputs": [
        {
          "output_type": "error",
          "ename": "FileNotFoundError",
          "evalue": "ignored",
          "traceback": [
            "\u001b[0;31m---------------------------------------------------------------------------\u001b[0m",
            "\u001b[0;31mFileNotFoundError\u001b[0m                         Traceback (most recent call last)",
            "\u001b[0;32m<ipython-input-3-458858aa16b2>\u001b[0m in \u001b[0;36m<module>\u001b[0;34m()\u001b[0m\n\u001b[0;32m----> 1\u001b[0;31m \u001b[0;32mwith\u001b[0m \u001b[0mopen\u001b[0m\u001b[0;34m(\u001b[0m\u001b[0;34m'https://raw.githubusercontent.com/bingiflash/NLP_project_uml_2019/master/Headline_Trainingdata.json'\u001b[0m\u001b[0;34m,\u001b[0m\u001b[0mencoding\u001b[0m\u001b[0;34m=\u001b[0m\u001b[0;34m'utf-8'\u001b[0m\u001b[0;34m)\u001b[0m \u001b[0;32mas\u001b[0m \u001b[0mf\u001b[0m\u001b[0;34m:\u001b[0m\u001b[0;34m\u001b[0m\u001b[0;34m\u001b[0m\u001b[0m\n\u001b[0m\u001b[1;32m      2\u001b[0m     \u001b[0mdata\u001b[0m \u001b[0;34m=\u001b[0m \u001b[0mjson\u001b[0m\u001b[0;34m.\u001b[0m\u001b[0mloads\u001b[0m\u001b[0;34m(\u001b[0m\u001b[0mf\u001b[0m\u001b[0;34m.\u001b[0m\u001b[0mread\u001b[0m\u001b[0;34m(\u001b[0m\u001b[0;34m)\u001b[0m\u001b[0;34m)\u001b[0m\u001b[0;34m\u001b[0m\u001b[0;34m\u001b[0m\u001b[0m\n",
            "\u001b[0;31mFileNotFoundError\u001b[0m: [Errno 2] No such file or directory: 'https://raw.githubusercontent.com/bingiflash/NLP_project_uml_2019/master/Headline_Trainingdata.json'"
          ]
        }
      ]
    },
    {
      "metadata": {
        "id": "C1ZbrE1GYt7E",
        "colab_type": "code",
        "outputId": "3b0eff69-9bbd-4fde-deb9-fba792439a07",
        "colab": {
          "base_uri": "https://localhost:8080/",
          "height": 84
        }
      },
      "cell_type": "code",
      "source": [
        "data[1141]"
      ],
      "execution_count": 0,
      "outputs": [
        {
          "output_type": "execute_result",
          "data": {
            "text/plain": [
              "{'company': 'Standard Chartered PLC',\n",
              " 'id': 1143,\n",
              " 'sentiment': -0.461,\n",
              " 'title': 'Standard Chartered Shifts Emerging-Markets Strategy After Losses'}"
            ]
          },
          "metadata": {
            "tags": []
          },
          "execution_count": 6
        }
      ]
    },
    {
      "metadata": {
        "id": "6UTa5qqMacRr",
        "colab_type": "code",
        "colab": {}
      },
      "cell_type": "code",
      "source": [
        "# Get 'title' and 'output' of data\n",
        "title_data = [x['title'] for x in data]\n",
        "sentiment_data = [x['sentiment'] for x in data]"
      ],
      "execution_count": 0,
      "outputs": []
    },
    {
      "metadata": {
        "id": "V2WJNrK9GeTv",
        "colab_type": "code",
        "colab": {}
      },
      "cell_type": "code",
      "source": [
        "# Create vocabulary ( we may want to use vocabulary class we use in our homeworks )\n",
        "voc = set()\n",
        "for line in title_data:\n",
        "  for word in word_tokenize(line):\n",
        "    voc.add(word)\n",
        "\n",
        "oh_title_data = []\n",
        "\n",
        "for line in title_data:\n",
        "  words = word_tokenize(line)\n",
        "  temp_list = []\n",
        "  for word in voc:\n",
        "    if word in words:\n",
        "      temp_list.append(1)\n",
        "    else:\n",
        "      temp_list.append(0)\n",
        "  oh_title_data.append(temp_list)"
      ],
      "execution_count": 0,
      "outputs": []
    },
    {
      "metadata": {
        "id": "lV1TCm5TcVKZ",
        "colab_type": "code",
        "colab": {}
      },
      "cell_type": "code",
      "source": [
        "# Split data into train and test - we still have text here, no numeric embeddings or representations\n",
        "X_train, X_test, y_train, y_test = train_test_split(oh_title_data,sentiment_data, test_size = 0.2, random_state = 5)"
      ],
      "execution_count": 0,
      "outputs": []
    },
    {
      "metadata": {
        "id": "ttOeaqwVgmr4",
        "colab_type": "code",
        "colab": {}
      },
      "cell_type": "code",
      "source": [
        "# What is this cell actually for?\n",
        "names =[\"<-0.9\",\"<-0.6\",\"<-0.3\",\"<0.0\",\"<0.3\",\"<0.6\",\"<0.9\",\"<1.0\"]\n",
        "counter_train=defaultdict(int)\n",
        "counter_test = defaultdict(int)\n",
        "for i in y_train:\n",
        "  if i <=-0.9:\n",
        "    counter_train[\"<-0.9\"] += 1\n",
        "  elif i <= -0.6:\n",
        "    counter_train[\"<-0.6\"] += 1\n",
        "  elif i <= -0.3:\n",
        "    counter_train[\"<-0.3\"] += 1\n",
        "  elif i <= 0.0:\n",
        "    counter_train[\"<0.0\"] += 1\n",
        "  elif i <= 0.3:\n",
        "    counter_train[\"<0.3\"] += 1\n",
        "  elif i <= 0.6:\n",
        "    counter_train[\"<0.6\"] += 1\n",
        "  elif i <= 0.9:\n",
        "    counter_train[\"<0.9\"] += 1\n",
        "  elif i <= 1.0:\n",
        "    counter_train[\"<1.0\"] += 1\n",
        "\n",
        "for i in y_test:\n",
        "  if i <=-0.9:\n",
        "    counter_test[\"<-0.9\"] += 1\n",
        "  elif i <= -0.6:\n",
        "    counter_test[\"<-0.6\"] += 1\n",
        "  elif i <= -0.3:\n",
        "    counter_test[\"<-0.3\"] += 1\n",
        "  elif i <= 0.0:\n",
        "    counter_test[\"<0.0\"] += 1\n",
        "  elif i <= 0.3:\n",
        "    counter_test[\"<0.3\"] += 1\n",
        "  elif i <= 0.6:\n",
        "    counter_test[\"<0.6\"] += 1\n",
        "  elif i <= 0.9:\n",
        "    counter_test[\"<0.9\"] += 1\n",
        "  elif i <= 1.0:\n",
        "    counter_test[\"<1.0\"] += 1\n"
      ],
      "execution_count": 0,
      "outputs": []
    },
    {
      "metadata": {
        "id": "O7TsFvQblwCt",
        "colab_type": "code",
        "outputId": "f07b878e-c85c-44e7-e623-198650ba3fbe",
        "colab": {
          "base_uri": "https://localhost:8080/",
          "height": 365
        }
      },
      "cell_type": "code",
      "source": [
        "# Visualize the dataset\n",
        "index = np.arange(len(names))\n",
        "values_train = [counter_train[c] for c in names]\n",
        "values_test = [counter_test[c] for c in names]\n",
        "fig, ax = plt.subplots(figsize=(7,5))\n",
        "ax.bar(index-0.2,values_train, label=\"train\", width=0.4)\n",
        "ax.bar(index+0.2,values_test, label=\"test\", width=0.4)\n",
        "ax.set_xticks(index)\n",
        "ax.set_xticklabels(names,rotation=30)\n",
        "ax.legend()\n",
        "fig.tight_layout()"
      ],
      "execution_count": 0,
      "outputs": [
        {
          "output_type": "display_data",
          "data": {
            "image/png": "[encoded data removed]",
            "text/plain": [
              "<Figure size 504x360 with 1 Axes>"
            ]
          },
          "metadata": {
            "tags": []
          }
        }
      ]
    },
    {
      "metadata": {
        "id": "Rb6FHiFYF5mZ",
        "colab_type": "code",
        "outputId": "4bddc973-c360-4927-a92f-b153755b2d80",
        "colab": {
          "base_uri": "https://localhost:8080/",
          "height": 67
        }
      },
      "cell_type": "code",
      "source": [
        "model_svr = SVR(gamma='auto')\n",
        "model_svr.fit(X_train,y_train)\n",
        "y_svr_pred = model_svr.predict(X_test)\n",
        "print(\"Mean Absolute Error:\",mean_absolute_error(y_test,y_svr_pred))\n",
        "print(\"Mean Squared Error:\",mean_squared_error(y_test,y_svr_pred))\n",
        "print(\"Mean Standard deviation\",np.sqrt(mean_absolute_error(y_test,y_svr_pred)))"
      ],
      "execution_count": 0,
      "outputs": [
        {
          "output_type": "stream",
          "text": [
            "Mean Absolute Error: 0.3220241898217433\n",
            "Mean Squared Error: 0.15235062123549167\n",
            "Mean Standard deviation 0.5674717524438933\n"
          ],
          "name": "stdout"
        }
      ]
    },
    {
      "metadata": {
        "id": "LUI7gFhbLAxE",
        "colab_type": "code",
        "outputId": "e95e3438-4510-4b89-8b38-4ebf9949c45c",
        "colab": {
          "base_uri": "https://localhost:8080/",
          "height": 34
        }
      },
      "cell_type": "code",
      "source": [
        "model_linear = LinearRegression()\n",
        "model_linear.fit(X_train,y_train)\n",
        "y_linear_pred = model_linear.predict(X_test)\n",
        "mean_absolute_error(y_test,y_linear_pred)"
      ],
      "execution_count": 0,
      "outputs": [
        {
          "output_type": "execute_result",
          "data": {
            "text/plain": [
              "3126531307717.0938"
            ]
          },
          "metadata": {
            "tags": []
          },
          "execution_count": 13
        }
      ]
    },
    {
      "metadata": {
        "id": "WXKLZ_wAa0RA",
        "colab_type": "code",
        "outputId": "98be1252-c166-434f-e970-3491316eb963",
        "colab": {
          "base_uri": "https://localhost:8080/",
          "height": 34
        }
      },
      "cell_type": "code",
      "source": [
        "y_linear_pred[0]"
      ],
      "execution_count": 0,
      "outputs": [
        {
          "output_type": "execute_result",
          "data": {
            "text/plain": [
              "-3975275771907.9346"
            ]
          },
          "metadata": {
            "tags": []
          },
          "execution_count": 14
        }
      ]
    },
    {
      "metadata": {
        "id": "T1hUQyZzbpgw",
        "colab_type": "code",
        "colab": {}
      },
      "cell_type": "code",
      "source": [
        ""
      ],
      "execution_count": 0,
      "outputs": []
    },
    {
      "metadata": {
        "id": "VD52gqPFJxu_",
        "colab_type": "code",
        "outputId": "a3384ab9-258a-4fe7-a8c1-1c90adf32473",
        "colab": {
          "base_uri": "https://localhost:8080/",
          "height": 364
        }
      },
      "cell_type": "code",
      "source": [
        "x= np.arange(0.06,0.15,0.005)\n",
        "plt.plot(y_svr_pred,np.array(y_test),'ro')\n",
        "plt.plot(x,x)"
      ],
      "execution_count": 0,
      "outputs": [
        {
          "output_type": "execute_result",
          "data": {
            "text/plain": [
              "[<matplotlib.lines.Line2D at 0x7fe7baa37438>]"
            ]
          },
          "metadata": {
            "tags": []
          },
          "execution_count": 29
        },
        {
          "output_type": "display_data",
          "data": {
            "image/png": "[encoded data removed]",
            "text/plain": [
              "<Figure size 576x396 with 1 Axes>"
            ]
          },
          "metadata": {
            "tags": []
          }
        }
      ]
    },
    {
      "metadata": {
        "id": "aJUgrzX2OA0G",
        "colab_type": "code",
        "outputId": "c0962a32-0375-485a-ac87-05ecab1f7b8f",
        "colab": {
          "base_uri": "https://localhost:8080/",
          "height": 378
        }
      },
      "cell_type": "code",
      "source": [
        "plt.subplot(1,2,1)\n",
        "plt.plot(y_svr_pred,'ro')\n",
        "plt.title(\"Predicted data\")\n",
        "\n",
        "plt.subplot(1,2,2)\n",
        "plt.plot(y_test,'bo')\n",
        "plt.title(\"Real data\")"
      ],
      "execution_count": 0,
      "outputs": [
        {
          "output_type": "execute_result",
          "data": {
            "text/plain": [
              "Text(0.5, 1.0, 'Real data')"
            ]
          },
          "metadata": {
            "tags": []
          },
          "execution_count": 34
        },
        {
          "output_type": "display_data",
          "data": {
            "image/png": "[encoded data removed]",
            "text/plain": [
              "<Figure size 576x396 with 2 Axes>"
            ]
          },
          "metadata": {
            "tags": []
          }
        }
      ]
    },
    {
      "metadata": {
        "id": "ciinuervQUar",
        "colab_type": "code",
        "colab": {}
      },
      "cell_type": "code",
      "source": [
        ""
      ],
      "execution_count": 0,
      "outputs": []
    }
  ]
}